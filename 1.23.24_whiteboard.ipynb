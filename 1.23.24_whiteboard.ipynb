{
 "cells": [
  {
   "cell_type": "code",
   "execution_count": 1,
   "id": "7cd7c83b-1774-4ac3-b1b0-1756b528d915",
   "metadata": {
    "tags": []
   },
   "outputs": [],
   "source": [
    "# Number of People in the Bus\n",
    "\n",
    "# There is a bus moving in the city which takes and drops some people at each bus stop.\n",
    "\n",
    "# You are provided with a list (or array) of integer pairs. Elements of each pair represent the number of people that get on the bus (the first item) and the number of people that get off the bus (the second item) at a bus stop.\n",
    "\n",
    "# Your task is to return the number of people who are still on the bus after the last bus stop (after the last array). Even though it is the last bus stop, the bus might not be empty and some people might still be inside the bus, they are probably sleeping there :D\n",
    "\n",
    "# Please keep in mind that the test cases ensure that the number of people in the bus is always >= 0. So the returned integer can't be negative.\n",
    "\n",
    "# The second value in the first pair in the array is 0, since the bus is empty in the first bus stop.\n",
    "\n",
    "# Examples:\n",
    "# [[10,0],[3,5],[5,8]] => 5\n",
    "# [[3,0],[9,1],[4,10],[12,2],[6,1],[7,10]] => 17\n",
    "# [[3,0],[9,1],[4,8],[12,2],[6,1],[7,8]] => 21"
   ]
  },
  {
   "cell_type": "code",
   "execution_count": 42,
   "id": "ab626a9c-d46c-46f4-a421-52f6394c0267",
   "metadata": {
    "tags": []
   },
   "outputs": [
    {
     "data": {
      "text/plain": [
       "17"
      ]
     },
     "execution_count": 42,
     "metadata": {},
     "output_type": "execute_result"
    }
   ],
   "source": [
    "def peeps_on_bus(bus):\n",
    "    # set count\n",
    "    heads_on_bus = 0\n",
    "    # take in the list of paired integers\n",
    "    for on, off in bus:\n",
    "        heads_on_bus += on - off\n",
    "    return heads_on_bus\n",
    "    \n",
    "\n",
    "bus = [[3,0],[9,1],[4,10],[12,2],[6,1],[7,10]]\n",
    "peeps_on_bus(bus)\n",
    "    \n",
    "# idea: add all the first index and then minus sum of second index"
   ]
  },
  {
   "cell_type": "code",
   "execution_count": 43,
   "id": "cd0183f5-ea44-4786-b177-2567ae0e3b5d",
   "metadata": {
    "tags": []
   },
   "outputs": [
    {
     "data": {
      "text/plain": [
       "17"
      ]
     },
     "execution_count": 43,
     "metadata": {},
     "output_type": "execute_result"
    }
   ],
   "source": [
    "def peeps_on_bus(bus):\n",
    "    # set count\n",
    "    heads_on_bus = 0\n",
    "    # take in the list of paired integers\n",
    "    for stop in bus:\n",
    "        heads_on_bus += stop[0]\n",
    "        heads_on_bus -= stop[1]     \n",
    "    return heads_on_bus\n",
    "    \n",
    "\n",
    "bus = [[3,0],[9,1],[4,10],[12,2],[6,1],[7,10]]\n",
    "peeps_on_bus(bus)"
   ]
  }
 ],
 "metadata": {
  "kernelspec": {
   "display_name": "Python 3 (ipykernel)",
   "language": "python",
   "name": "python3"
  },
  "language_info": {
   "codemirror_mode": {
    "name": "ipython",
    "version": 3
   },
   "file_extension": ".py",
   "mimetype": "text/x-python",
   "name": "python",
   "nbconvert_exporter": "python",
   "pygments_lexer": "ipython3",
   "version": "3.11.5"
  }
 },
 "nbformat": 4,
 "nbformat_minor": 5
}
